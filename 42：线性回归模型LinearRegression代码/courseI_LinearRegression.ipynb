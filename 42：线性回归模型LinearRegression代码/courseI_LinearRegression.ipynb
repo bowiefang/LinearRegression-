{
 
  },
  {
   "cell_type": "markdown",
   "metadata": {},
   "source": [
    "# Quick start  \n",
    "\n",
    "线性回归模型\n",
    "\n",
    "![](mindmap.png)"
   ]
  },
  {
   "cell_type": "markdown",
   "metadata": {},
   "source": [
    "线性回归是机器学习最基础的算法，也是使用范围最广泛的机器学习算法， 通过线性回归这个模型，大家可以了解如何构建一个最简单的机器学习模型。\n",
    "\n",
    "我们将用最简单的 Kaggle 房价数据，让你了解如何用模型从数据中提取洞见，进行预测。 "
   ]
  },
  {
   "cell_type": "markdown",
   "metadata": {},
   "source": [
    "所谓回归问题， 是指从一组特征，预测另一个连续的特征，比如价格。 线性回归 ，是最简单的回归模型，\n",
    "假定特征到预测目标具有线性关系"
   ]
  },
  {
   "cell_type": "markdown",
   "metadata": {},
   "source": [
    "Simple linear regression\n",
    "![](10_01.png)\n",
    "<img src='images/10_01.png',width = 500>"
   ]
  },
  {
   "cell_type": "markdown",
   "metadata": {},
   "source": [
    "多元线性回归\n",
    "![](10_15.png)\n",
    "\n",
    "<img src='images/10_15.png',width = 800>"
   ]
  },
  {
   "cell_type": "markdown",
   "metadata": {},
   "source": [
    "# 从房价数据详解\n",
    "\n",
    "引入房价数据集"
   ]
  },
  {
   "cell_type": "code",
   "execution_count": 1,
   "metadata": {
    "collapsed": true
   },
   "outputs": [],
   "source": [
    "import numpy as np\n",
    "import pandas as pd \n",
    "import matplotlib.pyplot as plt\n",
    "from IPython.display import Image\n",
    "import warnings\n",
    "warnings.filterwarnings('ignore')\n",
    "%matplotlib inline"
   ]
  },
  {
   "cell_type": "code",
   "execution_count": 2,
   "metadata": {},
   "outputs": [
    {
     "name": "stdout",
     "output_type": "stream",
     "text": [
      "(1460, 81) (1460, 81)\n"
     ]
    },
    {
     "data": {
      "text/html": [
       "<div>\n",
       "<style>\n",
       "    .dataframe thead tr:only-child th {\n",
       "        text-align: right;\n",
       "    }\n",
       "\n",
       "    .dataframe thead th {\n",
       "        text-align: left;\n",
       "    }\n",
       "\n",
       "    .dataframe tbody tr th {\n",
       "        vertical-align: top;\n",
       "    }\n",
       "</style>\n",
       "<table border=\"1\" class=\"dataframe\">\n",
       "  <thead>\n",
       "    <tr style=\"text-align: right;\">\n",
       "      <th></th>\n",
       "      <th>Id</th>\n",
       "      <th>MSSubClass</th>\n",
       "      <th>MSZoning</th>\n",
       "      <th>LotFrontage</th>\n",
       "      <th>LotArea</th>\n",
       "      <th>Street</th>\n",
       "      <th>Alley</th>\n",
       "      <th>LotShape</th>\n",
       "      <th>LandContour</th>\n",
       "      <th>Utilities</th>\n",
       "      <th>...</th>\n",
       "      <th>PoolArea</th>\n",
       "      <th>PoolQC</th>\n",
       "      <th>Fence</th>\n",
       "      <th>MiscFeature</th>\n",
       "      <th>MiscVal</th>\n",
       "      <th>MoSold</th>\n",
       "      <th>YrSold</th>\n",
       "      <th>SaleType</th>\n",
       "      <th>SaleCondition</th>\n",
       "      <th>SalePrice</th>\n",
       "    </tr>\n",
       "  </thead>\n",
       "  <tbody>\n",
       "    <tr>\n",
       "      <th>0</th>\n",
       "      <td>1</td>\n",
       "      <td>60</td>\n",
       "      <td>RL</td>\n",
       "      <td>65.0</td>\n",
       "      <td>8450</td>\n",
       "      <td>Pave</td>\n",
       "      <td>NaN</td>\n",
       "      <td>Reg</td>\n",
       "      <td>Lvl</td>\n",
       "      <td>AllPub</td>\n",
       "      <td>...</td>\n",
       "      <td>0</td>\n",
       "      <td>NaN</td>\n",
       "      <td>NaN</td>\n",
       "      <td>NaN</td>\n",
       "      <td>0</td>\n",
       "      <td>2</td>\n",
       "      <td>2008</td>\n",
       "      <td>WD</td>\n",
       "      <td>Normal</td>\n",
       "      <td>208500</td>\n",
       "    </tr>\n",
       "    <tr>\n",
       "      <th>1</th>\n",
       "      <td>2</td>\n",
       "      <td>20</td>\n",
       "      <td>RL</td>\n",
       "      <td>80.0</td>\n",
       "      <td>9600</td>\n",
       "      <td>Pave</td>\n",
       "      <td>NaN</td>\n",
       "      <td>Reg</td>\n",
       "      <td>Lvl</td>\n",
       "      <td>AllPub</td>\n",
       "      <td>...</td>\n",
       "      <td>0</td>\n",
       "      <td>NaN</td>\n",
       "      <td>NaN</td>\n",
       "      <td>NaN</td>\n",
       "      <td>0</td>\n",
       "      <td>5</td>\n",
       "      <td>2007</td>\n",
       "      <td>WD</td>\n",
       "      <td>Normal</td>\n",
       "      <td>181500</td>\n",
       "    </tr>\n",
       "    <tr>\n",
       "      <th>2</th>\n",
       "      <td>3</td>\n",
       "      <td>60</td>\n",
       "      <td>RL</td>\n",
       "      <td>68.0</td>\n",
       "      <td>11250</td>\n",
       "      <td>Pave</td>\n",
       "      <td>NaN</td>\n",
       "      <td>IR1</td>\n",
       "      <td>Lvl</td>\n",
       "      <td>AllPub</td>\n",
       "      <td>...</td>\n",
       "      <td>0</td>\n",
       "      <td>NaN</td>\n",
       "      <td>NaN</td>\n",
       "      <td>NaN</td>\n",
       "      <td>0</td>\n",
       "      <td>9</td>\n",
       "      <td>2008</td>\n",
       "      <td>WD</td>\n",
       "      <td>Normal</td>\n",
       "      <td>223500</td>\n",
       "    </tr>\n",
       "    <tr>\n",
       "      <th>3</th>\n",
       "      <td>4</td>\n",
       "      <td>70</td>\n",
       "      <td>RL</td>\n",
       "      <td>60.0</td>\n",
       "      <td>9550</td>\n",
       "      <td>Pave</td>\n",
       "      <td>NaN</td>\n",
       "      <td>IR1</td>\n",
       "      <td>Lvl</td>\n",
       "      <td>AllPub</td>\n",
       "      <td>...</td>\n",
       "      <td>0</td>\n",
       "      <td>NaN</td>\n",
       "      <td>NaN</td>\n",
       "      <td>NaN</td>\n",
       "      <td>0</td>\n",
       "      <td>2</td>\n",
       "      <td>2006</td>\n",
       "      <td>WD</td>\n",
       "      <td>Abnorml</td>\n",
       "      <td>140000</td>\n",
       "    </tr>\n",
       "    <tr>\n",
       "      <th>4</th>\n",
       "      <td>5</td>\n",
       "      <td>60</td>\n",
       "      <td>RL</td>\n",
       "      <td>84.0</td>\n",
       "      <td>14260</td>\n",
       "      <td>Pave</td>\n",
       "      <td>NaN</td>\n",
       "      <td>IR1</td>\n",
       "      <td>Lvl</td>\n",
       "      <td>AllPub</td>\n",
       "      <td>...</td>\n",
       "      <td>0</td>\n",
       "      <td>NaN</td>\n",
       "      <td>NaN</td>\n",
       "      <td>NaN</td>\n",
       "      <td>0</td>\n",
       "      <td>12</td>\n",
       "      <td>2008</td>\n",
       "      <td>WD</td>\n",
       "      <td>Normal</td>\n",
       "      <td>250000</td>\n",
       "    </tr>\n",
       "  </tbody>\n",
       "</table>\n",
       "<p>5 rows × 81 columns</p>\n",
       "</div>"
      ],
      "text/plain": [
       "   Id  MSSubClass MSZoning  LotFrontage  LotArea Street Alley LotShape  \\\n",
       "0   1          60       RL         65.0     8450   Pave   NaN      Reg   \n",
       "1   2          20       RL         80.0     9600   Pave   NaN      Reg   \n",
       "2   3          60       RL         68.0    11250   Pave   NaN      IR1   \n",
       "3   4          70       RL         60.0     9550   Pave   NaN      IR1   \n",
       "4   5          60       RL         84.0    14260   Pave   NaN      IR1   \n",
       "\n",
       "  LandContour Utilities    ...     PoolArea PoolQC Fence MiscFeature MiscVal  \\\n",
       "0         Lvl    AllPub    ...            0    NaN   NaN         NaN       0   \n",
       "1         Lvl    AllPub    ...            0    NaN   NaN         NaN       0   \n",
       "2         Lvl    AllPub    ...            0    NaN   NaN         NaN       0   \n",
       "3         Lvl    AllPub    ...            0    NaN   NaN         NaN       0   \n",
       "4         Lvl    AllPub    ...            0    NaN   NaN         NaN       0   \n",
       "\n",
       "  MoSold YrSold  SaleType  SaleCondition  SalePrice  \n",
       "0      2   2008        WD         Normal     208500  \n",
       "1      5   2007        WD         Normal     181500  \n",
       "2      9   2008        WD         Normal     223500  \n",
       "3      2   2006        WD        Abnorml     140000  \n",
       "4     12   2008        WD         Normal     250000  \n",
       "\n",
       "[5 rows x 81 columns]"
      ]
     },
     "execution_count": 2,
     "metadata": {},
     "output_type": "execute_result"
    }
   ],
   "source": [
    "data = pd.read_csv('train.csv')\n",
    "print(data.shape, data.shape)\n",
    "data.head()"
   ]
  },
  {
   "cell_type": "markdown",
   "metadata": {},
   "source": [
    "##  数据预处理\n",
    "\n",
    "数太大，归一化，让数据的分布处于同一区间, 我们选择一种最简单的数据调整方法，每个数除以其最大值。"
   ]
  },
  {
   "cell_type": "code",
   "execution_count": 38,
   "metadata": {},
   "outputs": [
    {
     "data": {
      "text/html": [
       "<div>\n",
       "<style>\n",
       "    .dataframe thead tr:only-child th {\n",
       "        text-align: right;\n",
       "    }\n",
       "\n",
       "    .dataframe thead th {\n",
       "        text-align: left;\n",
       "    }\n",
       "\n",
       "    .dataframe tbody tr th {\n",
       "        vertical-align: top;\n",
       "    }\n",
       "</style>\n",
       "<table border=\"1\" class=\"dataframe\">\n",
       "  <thead>\n",
       "    <tr style=\"text-align: right;\">\n",
       "      <th></th>\n",
       "      <th>room</th>\n",
       "      <th>area</th>\n",
       "      <th>Neighborhood</th>\n",
       "      <th>SalePrice</th>\n",
       "    </tr>\n",
       "  </thead>\n",
       "  <tbody>\n",
       "    <tr>\n",
       "      <th>0</th>\n",
       "      <td>0.375</td>\n",
       "      <td>0.039258</td>\n",
       "      <td>CollgCr</td>\n",
       "      <td>0.276159</td>\n",
       "    </tr>\n",
       "    <tr>\n",
       "      <th>1</th>\n",
       "      <td>0.375</td>\n",
       "      <td>0.044600</td>\n",
       "      <td>Veenker</td>\n",
       "      <td>0.240397</td>\n",
       "    </tr>\n",
       "    <tr>\n",
       "      <th>2</th>\n",
       "      <td>0.375</td>\n",
       "      <td>0.052266</td>\n",
       "      <td>CollgCr</td>\n",
       "      <td>0.296026</td>\n",
       "    </tr>\n",
       "    <tr>\n",
       "      <th>3</th>\n",
       "      <td>0.375</td>\n",
       "      <td>0.044368</td>\n",
       "      <td>Crawfor</td>\n",
       "      <td>0.185430</td>\n",
       "    </tr>\n",
       "    <tr>\n",
       "      <th>4</th>\n",
       "      <td>0.500</td>\n",
       "      <td>0.066250</td>\n",
       "      <td>NoRidge</td>\n",
       "      <td>0.331126</td>\n",
       "    </tr>\n",
       "  </tbody>\n",
       "</table>\n",
       "</div>"
      ],
      "text/plain": [
       "    room      area Neighborhood  SalePrice\n",
       "0  0.375  0.039258      CollgCr   0.276159\n",
       "1  0.375  0.044600      Veenker   0.240397\n",
       "2  0.375  0.052266      CollgCr   0.296026\n",
       "3  0.375  0.044368      Crawfor   0.185430\n",
       "4  0.500  0.066250      NoRidge   0.331126"
      ]
     },
     "execution_count": 38,
     "metadata": {},
     "output_type": "execute_result"
    }
   ],
   "source": [
    "# 选择数据集合中的几个重要的特征\n",
    "data_select = data[['BedroomAbvGr','LotArea','Neighborhood', 'SalePrice']]\n",
    "data_select = data_select.rename(columns = {'BedroomAbvGr':'room', 'LotArea':'area'})\n",
    "data_select = data_select.dropna(axis = 0)\n",
    "for col in np.take(data_select.columns,[0,1,-1]):\n",
    "    data_select[col] /= data_select[col].max()\n",
    "data_select.head()"
   ]
  },
  {
   "cell_type": "code",
   "execution_count": 4,
   "metadata": {},
   "outputs": [
    {
     "name": "stderr",
     "output_type": "stream",
     "text": [
      "/home/cruiser/anaconda3/lib/python3.6/site-packages/sklearn/cross_validation.py:41: DeprecationWarning: This module was deprecated in version 0.18 in favor of the model_selection module into which all the refactored classes and functions are moved. Also note that the interface of the new CV iterators are different from that of this module. This module will be removed in 0.20.\n",
      "  \"This module will be removed in 0.20.\", DeprecationWarning)\n"
     ]
    }
   ],
   "source": [
    "from sklearn.cross_validation import train_test_split\n",
    "train, test = train_test_split(data_select.copy(), test_size = 0.9)"
   ]
  },
  {
   "cell_type": "code",
   "execution_count": 5,
   "metadata": {},
   "outputs": [
    {
     "data": {
      "text/html": [
       "<div>\n",
       "<style>\n",
       "    .dataframe thead tr:only-child th {\n",
       "        text-align: right;\n",
       "    }\n",
       "\n",
       "    .dataframe thead th {\n",
       "        text-align: left;\n",
       "    }\n",
       "\n",
       "    .dataframe tbody tr th {\n",
       "        vertical-align: top;\n",
       "    }\n",
       "</style>\n",
       "<table border=\"1\" class=\"dataframe\">\n",
       "  <thead>\n",
       "    <tr style=\"text-align: right;\">\n",
       "      <th></th>\n",
       "      <th>room</th>\n",
       "      <th>area</th>\n",
       "      <th>SalePrice</th>\n",
       "    </tr>\n",
       "  </thead>\n",
       "  <tbody>\n",
       "    <tr>\n",
       "      <th>count</th>\n",
       "      <td>146.000000</td>\n",
       "      <td>146.000000</td>\n",
       "      <td>146.000000</td>\n",
       "    </tr>\n",
       "    <tr>\n",
       "      <th>mean</th>\n",
       "      <td>0.363014</td>\n",
       "      <td>0.047416</td>\n",
       "      <td>0.244922</td>\n",
       "    </tr>\n",
       "    <tr>\n",
       "      <th>std</th>\n",
       "      <td>0.094377</td>\n",
       "      <td>0.017209</td>\n",
       "      <td>0.105562</td>\n",
       "    </tr>\n",
       "    <tr>\n",
       "      <th>min</th>\n",
       "      <td>0.125000</td>\n",
       "      <td>0.010035</td>\n",
       "      <td>0.046225</td>\n",
       "    </tr>\n",
       "    <tr>\n",
       "      <th>25%</th>\n",
       "      <td>0.375000</td>\n",
       "      <td>0.037987</td>\n",
       "      <td>0.169040</td>\n",
       "    </tr>\n",
       "    <tr>\n",
       "      <th>50%</th>\n",
       "      <td>0.375000</td>\n",
       "      <td>0.045381</td>\n",
       "      <td>0.218874</td>\n",
       "    </tr>\n",
       "    <tr>\n",
       "      <th>75%</th>\n",
       "      <td>0.375000</td>\n",
       "      <td>0.054583</td>\n",
       "      <td>0.295530</td>\n",
       "    </tr>\n",
       "    <tr>\n",
       "      <th>max</th>\n",
       "      <td>0.750000</td>\n",
       "      <td>0.150819</td>\n",
       "      <td>0.810142</td>\n",
       "    </tr>\n",
       "  </tbody>\n",
       "</table>\n",
       "</div>"
      ],
      "text/plain": [
       "             room        area   SalePrice\n",
       "count  146.000000  146.000000  146.000000\n",
       "mean     0.363014    0.047416    0.244922\n",
       "std      0.094377    0.017209    0.105562\n",
       "min      0.125000    0.010035    0.046225\n",
       "25%      0.375000    0.037987    0.169040\n",
       "50%      0.375000    0.045381    0.218874\n",
       "75%      0.375000    0.054583    0.295530\n",
       "max      0.750000    0.150819    0.810142"
      ]
     },
     "execution_count": 5,
     "metadata": {},
     "output_type": "execute_result"
    }
   ],
   "source": [
    "train.describe()"
   ]
  },
  {
   "cell_type": "markdown",
   "metadata": {},
   "source": [
    "## 构建模型\n"
   ]
  },
  {
   "cell_type": "markdown",
   "metadata": {
    "solution": "hidden",
    "solution_first": true
   },
   "source": [
    "### 线性回归模型 \n",
    "\n",
    "从最简单的情况出发，构建一台预测价格的机器，假设函数 $h(\\bf{x}) = \\bf{w} \\bf{x} +b$ 是线性的。"
   ]
  },
  {
   "cell_type": "code",
   "execution_count": 6,
   "metadata": {
    "collapsed": true,
    "solution": "hidden"
   },
   "outputs": [],
   "source": [
    "def linear(features, pars):\n",
    "    price = np.sum(features*pars[:-1], axis = 1) + pars[-1]\n",
    "    return price"
   ]
  },
  {
   "cell_type": "markdown",
   "metadata": {
    "solution": "shown",
    "solution_first": true
   },
   "source": [
    "### 模型测试\n",
    "\n",
    "试一试你的模型预测价格， 和真实价格做比较"
   ]
  },
  {
   "cell_type": "code",
   "execution_count": 7,
   "metadata": {
    "scrolled": false,
    "solution": "shown"
   },
   "outputs": [
    {
     "data": {
      "text/html": [
       "<div>\n",
       "<style>\n",
       "    .dataframe thead tr:only-child th {\n",
       "        text-align: right;\n",
       "    }\n",
       "\n",
       "    .dataframe thead th {\n",
       "        text-align: left;\n",
       "    }\n",
       "\n",
       "    .dataframe tbody tr th {\n",
       "        vertical-align: top;\n",
       "    }\n",
       "</style>\n",
       "<table border=\"1\" class=\"dataframe\">\n",
       "  <thead>\n",
       "    <tr style=\"text-align: right;\">\n",
       "      <th></th>\n",
       "      <th>room</th>\n",
       "      <th>area</th>\n",
       "      <th>Neighborhood</th>\n",
       "      <th>SalePrice</th>\n",
       "      <th>predict</th>\n",
       "    </tr>\n",
       "  </thead>\n",
       "  <tbody>\n",
       "    <tr>\n",
       "      <th>1228</th>\n",
       "      <td>0.125</td>\n",
       "      <td>0.040740</td>\n",
       "      <td>NridgHt</td>\n",
       "      <td>0.486482</td>\n",
       "      <td>0.016574</td>\n",
       "    </tr>\n",
       "    <tr>\n",
       "      <th>425</th>\n",
       "      <td>0.375</td>\n",
       "      <td>0.015694</td>\n",
       "      <td>OldTown</td>\n",
       "      <td>0.178808</td>\n",
       "      <td>0.039069</td>\n",
       "    </tr>\n",
       "    <tr>\n",
       "      <th>944</th>\n",
       "      <td>0.375</td>\n",
       "      <td>0.066784</td>\n",
       "      <td>Timber</td>\n",
       "      <td>0.182119</td>\n",
       "      <td>0.044178</td>\n",
       "    </tr>\n",
       "    <tr>\n",
       "      <th>1294</th>\n",
       "      <td>0.250</td>\n",
       "      <td>0.037966</td>\n",
       "      <td>Edwards</td>\n",
       "      <td>0.152318</td>\n",
       "      <td>0.028797</td>\n",
       "    </tr>\n",
       "    <tr>\n",
       "      <th>1429</th>\n",
       "      <td>0.375</td>\n",
       "      <td>0.058287</td>\n",
       "      <td>NWAmes</td>\n",
       "      <td>0.242252</td>\n",
       "      <td>0.043329</td>\n",
       "    </tr>\n",
       "  </tbody>\n",
       "</table>\n",
       "</div>"
      ],
      "text/plain": [
       "       room      area Neighborhood  SalePrice   predict\n",
       "1228  0.125  0.040740      NridgHt   0.486482  0.016574\n",
       "425   0.375  0.015694      OldTown   0.178808  0.039069\n",
       "944   0.375  0.066784       Timber   0.182119  0.044178\n",
       "1294  0.250  0.037966      Edwards   0.152318  0.028797\n",
       "1429  0.375  0.058287       NWAmes   0.242252  0.043329"
      ]
     },
     "execution_count": 7,
     "metadata": {},
     "output_type": "execute_result"
    }
   ],
   "source": [
    "# par1 = 0.1, par2 = 0.1\n",
    "train['predict'] = linear(train[['room', 'area']].values, np.array([0.1, 0.1, 0.0]))\n",
    "train.head()"
   ]
  },
  {
   "cell_type": "markdown",
   "metadata": {
    "solution": "shown"
   },
   "source": [
    "可以看到，在该参数下，模型的预测价格和真实价格有较大的差距。那么寻找合适的参数值是我们需要做的事情。"
   ]
  },
  {
   "cell_type": "markdown",
   "metadata": {
    "solution": "shown",
    "solution_first": true
   },
   "source": [
    "### 代价函数\n",
    "\n",
    "预测函数为  $h(\\bf{x}) = \\bf{w} \\bf{x} +b$\n",
    "\n",
    "度量预测错误，代价函数是误差平方和。\n",
    "\n",
    "\n",
    "![](formula.jpg)\n",
    "\n",
    "\n",
    "（这里不是 1/2)"
   ]
  },
  {
   "cell_type": "code",
   "execution_count": 8,
   "metadata": {
    "solution": "shown"
   },
   "outputs": [
    {
     "name": "stdout",
     "output_type": "stream",
     "text": [
      "0.0521960417447\n"
     ]
    }
   ],
   "source": [
    "def mean_squared_error(y_pred , y):\n",
    "    return sum(np.array( y_pred - y ) ** 2)\n",
    "    \n",
    "def Cost(df, features, pars):\n",
    "    df['predict'] = linear(df[features].values, pars)\n",
    "    cost = mean_squared_error(df.predict, df.SalePrice)/len(df)\n",
    "    return cost\n",
    "\n",
    "cost=Cost(train,['room', 'area'], np.array([0.1, 0.1, 0.0]))\n",
    "print (cost)"
   ]
  },
  {
   "cell_type": "markdown",
   "metadata": {
    "solution": "shown"
   },
   "source": [
    "### 暴力搜索 \n",
    "\n",
    "我们需要找到一组参数，线性回归模型的代价最少！ \n",
    "\n",
    "最简单的办法是用格点搜索法。为了减少yan'sua演算时间， 假设模型的截距项b = 0"
   ]
  },
  {
   "cell_type": "code",
   "execution_count": 9,
   "metadata": {},
   "outputs": [
    {
     "data": {
      "text/plain": [
       "((100, 100), (100, 100))"
      ]
     },
     "execution_count": 9,
     "metadata": {},
     "output_type": "execute_result"
    }
   ],
   "source": [
    "Xs = np.linspace(0, 1, 100)\n",
    "Ys = np.linspace(0, 1, 100)\n",
    "Zs = np.zeros([100,100])\n",
    "\n",
    "Xs,Ys = np.meshgrid(Xs,Ys)\n",
    "Xs.shape, Ys.shape"
   ]
  },
  {
   "cell_type": "code",
   "execution_count": 10,
   "metadata": {
    "collapsed": true
   },
   "outputs": [],
   "source": [
    "W1=[]\n",
    "W2=[]\n",
    "Costs =[]\n",
    "for i in range (100):\n",
    "    for j in range(100):\n",
    "            W1.append(0.01*i)\n",
    "            W2.append(0.01*j)\n",
    "            Costs.append(Cost(train,['room', 'area'], np.array([0.01*i, 0.01*j, 0.])))\n",
    "index = np.array(Costs).argmin()"
   ]
  },
  {
   "cell_type": "code",
   "execution_count": 11,
   "metadata": {},
   "outputs": [
    {
     "name": "stdout",
     "output_type": "stream",
     "text": [
      "0.52 0.99 0.00995275656167\n"
     ]
    }
   ],
   "source": [
    "print (W1[index], W2[index],Costs[index])"
   ]
  },
  {
   "cell_type": "code",
   "execution_count": 12,
   "metadata": {
    "scrolled": true
   },
   "outputs": [
    {
     "data": {
      "text/plain": [
       "<matplotlib.text.Text at 0x7f2d37d042e8>"
      ]
     },
     "execution_count": 12,
     "metadata": {},
     "output_type": "execute_result"
    },
    {
     "data": {
      "image/png": "iVBORw0KGgoAAAANSUhEUgAAAWQAAADuCAYAAAAOR30qAAAABHNCSVQICAgIfAhkiAAAAAlwSFlz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\nCEEGCCHIACEEGSCEIAOEEGSAEB8DMu3w1kNuGQAAAABJRU5ErkJggg==\n",
      "text/plain": [
       "<matplotlib.figure.Figure at 0x7f2d3b47a0f0>"
      ]
     },
     "metadata": {},
     "output_type": "display_data"
    },
    {
     "data": {
      "image/png": "iVBORw0KGgoAAAANSUhEUgAAAWQAAADuCAYAAAAOR30qAAAABHNCSVQICAgIfAhkiAAAAAlwSFlz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\n",
      "text/plain": [
       "<matplotlib.figure.Figure at 0x7f2d37e9c518>"
      ]
     },
     "metadata": {},
     "output_type": "display_data"
    }
   ],
   "source": [
    "from mpl_toolkits.mplot3d import Axes3D\n",
    "fig=plt.figure()\n",
    "ax=fig.add_subplot(111,projection='3d')\n",
    "ax.view_init(5,-15)\n",
    "ax.scatter(W1,W2,Costs,s=10)\n",
    "ax.scatter(0.58, 0.28, zs = Cost(train,['room', 'area'], np.array([0.58, 0.28, 0.0]) ), s=100,\n",
    "           color='red')\n",
    "plt.xlabel('rooms')\n",
    "plt.ylabel('lotArea')\n",
    "\n",
    "fig=plt.figure()\n",
    "ax=fig.add_subplot(111,projection='3d')\n",
    "ax.view_init(5,15)\n",
    "ax.scatter(W1,W2,Costs,s=10)\n",
    "ax.scatter(0.58, 0.28, zs = Cost(train,['room', 'area'], np.array([0.58, 0.28, 0.0]) ), s=100,\n",
    "           color='red')\n",
    "plt.xlabel('rooms')\n",
    "plt.ylabel('lotArea')"
   ]
  },
  {
   "cell_type": "markdown",
   "metadata": {},
   "source": [
    "从中可以看出我们格点搜索出来的点，确实具备有更小的 Cost."
   ]
  },
  {
   "cell_type": "markdown",
   "metadata": {},
   "source": [
    "### 梯度下降法\n",
    "\n",
    "格点搜索法计算量通常很大，更多时候，尤其是在参数很多的时候，一般用梯度下降法。\n",
    "\n",
    "![](http://7xivgs.com1.z0.glb.clouddn.com/%E6%A2%AF%E5%BA%A6%E4%B8%8B%E9%99%8D%E6%B3%9501.jpeg)"
   ]
  },
  {
   "cell_type": "code",
   "execution_count": 11,
   "metadata": {},
   "outputs": [
    {
     "data": {
      "text/plain": [
       "array([-0.12062854, -0.01706893, -0.32515586])"
      ]
     },
     "execution_count": 11,
     "metadata": {},
     "output_type": "execute_result"
    }
   ],
   "source": [
    "# pars 是 w和b的总和\n",
    "def gradient(train,features, pars):\n",
    "    Gradient = np.zeros(len(pars))\n",
    "    for i in range(len(pars)):\n",
    "        pars_new = pars.copy()\n",
    "        pars_new[i] += 0.01 \n",
    "        Gradient[i] = (Cost(train, features, pars_new) - Cost(train,features, pars))/0.01\n",
    "    return Gradient\n",
    "gradient(train, ['room', 'area'],[0.2, 0.1, 0])"
   ]
  },
  {
   "cell_type": "code",
   "execution_count": 12,
   "metadata": {
    "collapsed": true
   },
   "outputs": [],
   "source": [
    "def GradientDescent(data, epochs, lr, features, pars):\n",
    "    Costs = []\n",
    "    for i in range (epochs):\n",
    "        grad = gradient(data, features, pars)\n",
    "        if i%50 == 0:\n",
    "            Costs.append(Cost(data, features, pars))\n",
    "        pars -= grad*lr\n",
    "    print ('w = ', pars)\n",
    "    return pars, Costs"
   ]
  },
  {
   "cell_type": "code",
   "execution_count": 13,
   "metadata": {},
   "outputs": [
    {
     "name": "stdout",
     "output_type": "stream",
     "text": [
      "w =  [ 0.16047375  0.10910733  0.15654558]\n"
     ]
    }
   ],
   "source": [
    "pars,Costs = GradientDescent(train, 500, 0.002,['room', 'area'],[0.1, 0.1, 0] )"
   ]
  },
  {
   "cell_type": "markdown",
   "metadata": {},
   "source": [
    "查看梯度下降的过程"
   ]
  },
  {
   "cell_type": "code",
   "execution_count": 16,
   "metadata": {},
   "outputs": [
    {
     "data": {
      "text/plain": [
       "<matplotlib.text.Text at 0x7f2d35f5cbe0>"
      ]
     },
     "execution_count": 16,
     "metadata": {},
     "output_type": "execute_result"
    },
    {
     "data": {
      "image/png": "iVBORw0KGgoAAAANSUhEUgAAAZIAAAEKCAYAAAA4t9PUAAAABHNCSVQICAgIfAhkiAAAAAlwSFlz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\niIg0y/8H1uO9KmfJUUEAAAAASUVORK5CYII=\n",
      "text/plain": [
       "<matplotlib.figure.Figure at 0x7f2d36107860>"
      ]
     },
     "metadata": {},
     "output_type": "display_data"
    }
   ],
   "source": [
    "plt.plot(Costs)\n",
    "plt.xlabel('time')\n",
    "plt.ylabel('cost')"
   ]
  },
  {
   "cell_type": "markdown",
   "metadata": {},
   "source": [
    "## 预测和模型评估\n",
    "\n",
    "用学习出来的模型做预测"
   ]
  },
  {
   "cell_type": "code",
   "execution_count": 17,
   "metadata": {},
   "outputs": [
    {
     "data": {
      "text/plain": [
       "0.010393847591213893"
      ]
     },
     "execution_count": 17,
     "metadata": {},
     "output_type": "execute_result"
    }
   ],
   "source": [
    "cost = Cost(train,['room', 'area'], pars)\n",
    "cost"
   ]
  },
  {
   "cell_type": "markdown",
   "metadata": {},
   "source": [
    "> 我们查看预测的均方误差"
   ]
  },
  {
   "cell_type": "code",
   "execution_count": 18,
   "metadata": {},
   "outputs": [
    {
     "name": "stdout",
     "output_type": "stream",
     "text": [
      "MSE train: 0.010\n"
     ]
    },
    {
     "data": {
      "text/html": [
       "<div>\n",
       "<style>\n",
       "    .dataframe thead tr:only-child th {\n",
       "        text-align: right;\n",
       "    }\n",
       "\n",
       "    .dataframe thead th {\n",
       "        text-align: left;\n",
       "    }\n",
       "\n",
       "    .dataframe tbody tr th {\n",
       "        vertical-align: top;\n",
       "    }\n",
       "</style>\n",
       "<table border=\"1\" class=\"dataframe\">\n",
       "  <thead>\n",
       "    <tr style=\"text-align: right;\">\n",
       "      <th></th>\n",
       "      <th>room</th>\n",
       "      <th>area</th>\n",
       "      <th>Neighborhood</th>\n",
       "      <th>SalePrice</th>\n",
       "      <th>predict</th>\n",
       "    </tr>\n",
       "  </thead>\n",
       "  <tbody>\n",
       "    <tr>\n",
       "      <th>393</th>\n",
       "      <td>0.250</td>\n",
       "      <td>0.034593</td>\n",
       "      <td>BrkSide</td>\n",
       "      <td>0.132450</td>\n",
       "      <td>0.196734</td>\n",
       "    </tr>\n",
       "    <tr>\n",
       "      <th>1355</th>\n",
       "      <td>0.500</td>\n",
       "      <td>0.047351</td>\n",
       "      <td>NWAmes</td>\n",
       "      <td>0.225166</td>\n",
       "      <td>0.237517</td>\n",
       "    </tr>\n",
       "    <tr>\n",
       "      <th>1169</th>\n",
       "      <td>0.500</td>\n",
       "      <td>0.166136</td>\n",
       "      <td>NoRidge</td>\n",
       "      <td>0.827815</td>\n",
       "      <td>0.250604</td>\n",
       "    </tr>\n",
       "    <tr>\n",
       "      <th>1125</th>\n",
       "      <td>0.250</td>\n",
       "      <td>0.048475</td>\n",
       "      <td>NAmes</td>\n",
       "      <td>0.152318</td>\n",
       "      <td>0.198264</td>\n",
       "    </tr>\n",
       "    <tr>\n",
       "      <th>665</th>\n",
       "      <td>0.375</td>\n",
       "      <td>0.052006</td>\n",
       "      <td>Gilbert</td>\n",
       "      <td>0.305298</td>\n",
       "      <td>0.218341</td>\n",
       "    </tr>\n",
       "  </tbody>\n",
       "</table>\n",
       "</div>"
      ],
      "text/plain": [
       "       room      area Neighborhood  SalePrice   predict\n",
       "393   0.250  0.034593      BrkSide   0.132450  0.196734\n",
       "1355  0.500  0.047351       NWAmes   0.225166  0.237517\n",
       "1169  0.500  0.166136      NoRidge   0.827815  0.250604\n",
       "1125  0.250  0.048475        NAmes   0.152318  0.198264\n",
       "665   0.375  0.052006      Gilbert   0.305298  0.218341"
      ]
     },
     "execution_count": 18,
     "metadata": {},
     "output_type": "execute_result"
    }
   ],
   "source": [
    "from sklearn.metrics import mean_squared_error\n",
    "train['predict'] = linear(train[['room', 'area']].values, pars )\n",
    "print('MSE train: %.3f' % (mean_squared_error(train['SalePrice'], train['predict'])))\n",
    "train.head()"
   ]
  },
  {
   "cell_type": "code",
   "execution_count": 19,
   "metadata": {},
   "outputs": [
    {
     "name": "stdout",
     "output_type": "stream",
     "text": [
      "MSE test: 0.011\n"
     ]
    },
    {
     "data": {
      "text/html": [
       "<div>\n",
       "<style>\n",
       "    .dataframe thead tr:only-child th {\n",
       "        text-align: right;\n",
       "    }\n",
       "\n",
       "    .dataframe thead th {\n",
       "        text-align: left;\n",
       "    }\n",
       "\n",
       "    .dataframe tbody tr th {\n",
       "        vertical-align: top;\n",
       "    }\n",
       "</style>\n",
       "<table border=\"1\" class=\"dataframe\">\n",
       "  <thead>\n",
       "    <tr style=\"text-align: right;\">\n",
       "      <th></th>\n",
       "      <th>room</th>\n",
       "      <th>area</th>\n",
       "      <th>Neighborhood</th>\n",
       "      <th>SalePrice</th>\n",
       "      <th>predict</th>\n",
       "    </tr>\n",
       "  </thead>\n",
       "  <tbody>\n",
       "    <tr>\n",
       "      <th>35</th>\n",
       "      <td>0.500</td>\n",
       "      <td>0.062338</td>\n",
       "      <td>NridgHt</td>\n",
       "      <td>0.409272</td>\n",
       "      <td>0.239168</td>\n",
       "    </tr>\n",
       "    <tr>\n",
       "      <th>552</th>\n",
       "      <td>0.375</td>\n",
       "      <td>0.051783</td>\n",
       "      <td>NridgHt</td>\n",
       "      <td>0.338411</td>\n",
       "      <td>0.218317</td>\n",
       "    </tr>\n",
       "    <tr>\n",
       "      <th>30</th>\n",
       "      <td>0.375</td>\n",
       "      <td>0.039490</td>\n",
       "      <td>IDOTRR</td>\n",
       "      <td>0.052980</td>\n",
       "      <td>0.216962</td>\n",
       "    </tr>\n",
       "    <tr>\n",
       "      <th>1136</th>\n",
       "      <td>0.375</td>\n",
       "      <td>0.044600</td>\n",
       "      <td>NAmes</td>\n",
       "      <td>0.157616</td>\n",
       "      <td>0.217525</td>\n",
       "    </tr>\n",
       "    <tr>\n",
       "      <th>1309</th>\n",
       "      <td>0.375</td>\n",
       "      <td>0.033232</td>\n",
       "      <td>SawyerW</td>\n",
       "      <td>0.237351</td>\n",
       "      <td>0.216273</td>\n",
       "    </tr>\n",
       "  </tbody>\n",
       "</table>\n",
       "</div>"
      ],
      "text/plain": [
       "       room      area Neighborhood  SalePrice   predict\n",
       "35    0.500  0.062338      NridgHt   0.409272  0.239168\n",
       "552   0.375  0.051783      NridgHt   0.338411  0.218317\n",
       "30    0.375  0.039490       IDOTRR   0.052980  0.216962\n",
       "1136  0.375  0.044600        NAmes   0.157616  0.217525\n",
       "1309  0.375  0.033232      SawyerW   0.237351  0.216273"
      ]
     },
     "execution_count": 19,
     "metadata": {},
     "output_type": "execute_result"
    }
   ],
   "source": [
    "test['predict'] = linear(test[['room', 'area']].values, pars)\n",
    "print('MSE test: %.3f' % (mean_squared_error(test['SalePrice'], test['predict'])))\n",
    "test.head()"
   ]
  },
  {
   "cell_type": "code",
   "execution_count": 20,
   "metadata": {},
   "outputs": [
    {
     "data": {
      "text/plain": [
       "8.5112068780221547e-06"
      ]
     },
     "execution_count": 20,
     "metadata": {},
     "output_type": "execute_result"
    }
   ],
   "source": [
    "cost = Cost(test,['room', 'area'], pars)\n",
    "cost"
   ]
  },
  {
   "cell_type": "markdown",
   "metadata": {
    "solution": "hidden",
    "solution_first": true
   },
   "source": [
    "## 如何做的更好\n",
    "\n",
    "结果是否理想， 能够如何优化，是否存在一个模型，使得误差为0？ 增加特征试一试！ \n",
    "\n",
    "我们把之前的模型封装起来 ， 并且使用公式运算梯度， 比较一下和之前的速度差别！  "
   ]
  },
  {
   "cell_type": "code",
   "execution_count": 14,
   "metadata": {
    "collapsed": true,
    "solution": "hidden"
   },
   "outputs": [],
   "source": [
    "class LinearRegressionGD(object):\n",
    "\n",
    "    def __init__(self, eta=0.001, n_iter=20):\n",
    "        self.eta = eta\n",
    "        self.n_iter = n_iter\n",
    "\n",
    "    def fit(self, X, y):\n",
    "        self.w_ = np.zeros(1 + X.shape[1])\n",
    "        self.cost_ = []\n",
    "\n",
    "        for i in range(self.n_iter):\n",
    "            output = self.net_input(X)\n",
    "            errors = (y - output)\n",
    "            self.w_[:-1] += self.eta * X.T.dot(errors)\n",
    "            self.w_[-1] += self.eta * errors.sum()\n",
    "            cost = (errors**2).sum() / 2.0\n",
    "            self.cost_.append(cost)\n",
    "        return self\n",
    "\n",
    "    def net_input(self, X):\n",
    "        return np.dot(X, self.w_[:-1]) + self.w_[-1]\n",
    "\n",
    "    def predict(self, X):\n",
    "        return self.net_input(X)"
   ]
  },
  {
   "cell_type": "code",
   "execution_count": 30,
   "metadata": {
    "collapsed": true
   },
   "outputs": [],
   "source": [
    "data_select = pd.get_dummies(data_select)\n",
    "train, test = train_test_split(data_select.copy(), test_size = 0.9)"
   ]
  },
  {
   "cell_type": "code",
   "execution_count": 31,
   "metadata": {
    "collapsed": true
   },
   "outputs": [],
   "source": [
    "train_ = train.copy()\n",
    "train_y = train_.pop('SalePrice')\n",
    "train_x = train_\n",
    "test_ = test.copy()\n",
    "test_y = test_.pop('SalePrice')\n",
    "test_x = test_"
   ]
  },
  {
   "cell_type": "code",
   "execution_count": 32,
   "metadata": {
    "scrolled": true
   },
   "outputs": [
    {
     "data": {
      "text/html": [
       "<div>\n",
       "<style>\n",
       "    .dataframe thead tr:only-child th {\n",
       "        text-align: right;\n",
       "    }\n",
       "\n",
       "    .dataframe thead th {\n",
       "        text-align: left;\n",
       "    }\n",
       "\n",
       "    .dataframe tbody tr th {\n",
       "        vertical-align: top;\n",
       "    }\n",
       "</style>\n",
       "<table border=\"1\" class=\"dataframe\">\n",
       "  <thead>\n",
       "    <tr style=\"text-align: right;\">\n",
       "      <th></th>\n",
       "      <th>room</th>\n",
       "      <th>area</th>\n",
       "      <th>Neighborhood_Blmngtn</th>\n",
       "      <th>Neighborhood_Blueste</th>\n",
       "      <th>Neighborhood_BrDale</th>\n",
       "      <th>Neighborhood_BrkSide</th>\n",
       "      <th>Neighborhood_ClearCr</th>\n",
       "      <th>Neighborhood_CollgCr</th>\n",
       "      <th>Neighborhood_Crawfor</th>\n",
       "      <th>Neighborhood_Edwards</th>\n",
       "      <th>...</th>\n",
       "      <th>Neighborhood_NoRidge</th>\n",
       "      <th>Neighborhood_NridgHt</th>\n",
       "      <th>Neighborhood_OldTown</th>\n",
       "      <th>Neighborhood_SWISU</th>\n",
       "      <th>Neighborhood_Sawyer</th>\n",
       "      <th>Neighborhood_SawyerW</th>\n",
       "      <th>Neighborhood_Somerst</th>\n",
       "      <th>Neighborhood_StoneBr</th>\n",
       "      <th>Neighborhood_Timber</th>\n",
       "      <th>Neighborhood_Veenker</th>\n",
       "    </tr>\n",
       "  </thead>\n",
       "  <tbody>\n",
       "    <tr>\n",
       "      <th>1027</th>\n",
       "      <td>0.375</td>\n",
       "      <td>0.044229</td>\n",
       "      <td>0</td>\n",
       "      <td>0</td>\n",
       "      <td>0</td>\n",
       "      <td>0</td>\n",
       "      <td>0</td>\n",
       "      <td>0</td>\n",
       "      <td>0</td>\n",
       "      <td>0</td>\n",
       "      <td>...</td>\n",
       "      <td>0</td>\n",
       "      <td>0</td>\n",
       "      <td>0</td>\n",
       "      <td>0</td>\n",
       "      <td>0</td>\n",
       "      <td>0</td>\n",
       "      <td>0</td>\n",
       "      <td>0</td>\n",
       "      <td>1</td>\n",
       "      <td>0</td>\n",
       "    </tr>\n",
       "    <tr>\n",
       "      <th>971</th>\n",
       "      <td>0.250</td>\n",
       "      <td>0.010537</td>\n",
       "      <td>0</td>\n",
       "      <td>0</td>\n",
       "      <td>0</td>\n",
       "      <td>0</td>\n",
       "      <td>0</td>\n",
       "      <td>0</td>\n",
       "      <td>0</td>\n",
       "      <td>0</td>\n",
       "      <td>...</td>\n",
       "      <td>0</td>\n",
       "      <td>1</td>\n",
       "      <td>0</td>\n",
       "      <td>0</td>\n",
       "      <td>0</td>\n",
       "      <td>0</td>\n",
       "      <td>0</td>\n",
       "      <td>0</td>\n",
       "      <td>0</td>\n",
       "      <td>0</td>\n",
       "    </tr>\n",
       "    <tr>\n",
       "      <th>1263</th>\n",
       "      <td>0.375</td>\n",
       "      <td>0.062789</td>\n",
       "      <td>0</td>\n",
       "      <td>0</td>\n",
       "      <td>0</td>\n",
       "      <td>1</td>\n",
       "      <td>0</td>\n",
       "      <td>0</td>\n",
       "      <td>0</td>\n",
       "      <td>0</td>\n",
       "      <td>...</td>\n",
       "      <td>0</td>\n",
       "      <td>0</td>\n",
       "      <td>0</td>\n",
       "      <td>0</td>\n",
       "      <td>0</td>\n",
       "      <td>0</td>\n",
       "      <td>0</td>\n",
       "      <td>0</td>\n",
       "      <td>0</td>\n",
       "      <td>0</td>\n",
       "    </tr>\n",
       "    <tr>\n",
       "      <th>965</th>\n",
       "      <td>0.375</td>\n",
       "      <td>0.047560</td>\n",
       "      <td>0</td>\n",
       "      <td>0</td>\n",
       "      <td>0</td>\n",
       "      <td>0</td>\n",
       "      <td>0</td>\n",
       "      <td>0</td>\n",
       "      <td>0</td>\n",
       "      <td>0</td>\n",
       "      <td>...</td>\n",
       "      <td>0</td>\n",
       "      <td>0</td>\n",
       "      <td>0</td>\n",
       "      <td>0</td>\n",
       "      <td>0</td>\n",
       "      <td>0</td>\n",
       "      <td>0</td>\n",
       "      <td>0</td>\n",
       "      <td>0</td>\n",
       "      <td>0</td>\n",
       "    </tr>\n",
       "    <tr>\n",
       "      <th>468</th>\n",
       "      <td>0.375</td>\n",
       "      <td>0.053093</td>\n",
       "      <td>0</td>\n",
       "      <td>0</td>\n",
       "      <td>0</td>\n",
       "      <td>0</td>\n",
       "      <td>0</td>\n",
       "      <td>0</td>\n",
       "      <td>0</td>\n",
       "      <td>0</td>\n",
       "      <td>...</td>\n",
       "      <td>0</td>\n",
       "      <td>1</td>\n",
       "      <td>0</td>\n",
       "      <td>0</td>\n",
       "      <td>0</td>\n",
       "      <td>0</td>\n",
       "      <td>0</td>\n",
       "      <td>0</td>\n",
       "      <td>0</td>\n",
       "      <td>0</td>\n",
       "    </tr>\n",
       "  </tbody>\n",
       "</table>\n",
       "<p>5 rows × 27 columns</p>\n",
       "</div>"
      ],
      "text/plain": [
       "       room      area  Neighborhood_Blmngtn  Neighborhood_Blueste  \\\n",
       "1027  0.375  0.044229                     0                     0   \n",
       "971   0.250  0.010537                     0                     0   \n",
       "1263  0.375  0.062789                     0                     0   \n",
       "965   0.375  0.047560                     0                     0   \n",
       "468   0.375  0.053093                     0                     0   \n",
       "\n",
       "      Neighborhood_BrDale  Neighborhood_BrkSide  Neighborhood_ClearCr  \\\n",
       "1027                    0                     0                     0   \n",
       "971                     0                     0                     0   \n",
       "1263                    0                     1                     0   \n",
       "965                     0                     0                     0   \n",
       "468                     0                     0                     0   \n",
       "\n",
       "      Neighborhood_CollgCr  Neighborhood_Crawfor  Neighborhood_Edwards  \\\n",
       "1027                     0                     0                     0   \n",
       "971                      0                     0                     0   \n",
       "1263                     0                     0                     0   \n",
       "965                      0                     0                     0   \n",
       "468                      0                     0                     0   \n",
       "\n",
       "              ...           Neighborhood_NoRidge  Neighborhood_NridgHt  \\\n",
       "1027          ...                              0                     0   \n",
       "971           ...                              0                     1   \n",
       "1263          ...                              0                     0   \n",
       "965           ...                              0                     0   \n",
       "468           ...                              0                     1   \n",
       "\n",
       "      Neighborhood_OldTown  Neighborhood_SWISU  Neighborhood_Sawyer  \\\n",
       "1027                     0                   0                    0   \n",
       "971                      0                   0                    0   \n",
       "1263                     0                   0                    0   \n",
       "965                      0                   0                    0   \n",
       "468                      0                   0                    0   \n",
       "\n",
       "      Neighborhood_SawyerW  Neighborhood_Somerst  Neighborhood_StoneBr  \\\n",
       "1027                     0                     0                     0   \n",
       "971                      0                     0                     0   \n",
       "1263                     0                     0                     0   \n",
       "965                      0                     0                     0   \n",
       "468                      0                     0                     0   \n",
       "\n",
       "      Neighborhood_Timber  Neighborhood_Veenker  \n",
       "1027                    1                     0  \n",
       "971                     0                     0  \n",
       "1263                    0                     0  \n",
       "965                     0                     0  \n",
       "468                     0                     0  \n",
       "\n",
       "[5 rows x 27 columns]"
      ]
     },
     "execution_count": 32,
     "metadata": {},
     "output_type": "execute_result"
    }
   ],
   "source": [
    "train_x.head()"
   ]
  },
  {
   "cell_type": "code",
   "execution_count": 33,
   "metadata": {},
   "outputs": [
    {
     "data": {
      "text/plain": [
       "<__main__.LinearRegressionGD at 0x7fc111b92898>"
      ]
     },
     "execution_count": 33,
     "metadata": {},
     "output_type": "execute_result"
    }
   ],
   "source": [
    "lr = LinearRegressionGD(n_iter = 1000)\n",
    "lr.fit(train_x.values, train_y.values)"
   ]
  },
  {
   "cell_type": "code",
   "execution_count": 34,
   "metadata": {},
   "outputs": [
    {
     "data": {
      "text/plain": [
       "array([ 0.16957942,  0.11021259,  0.07283424,  0.        ,  0.        ,\n",
       "       -0.03630987,  0.        ,  0.01206874, -0.01824598, -0.05875296,\n",
       "        0.0371777 , -0.11406127, -0.09546194, -0.00494957, -0.0445464 ,\n",
       "        0.        , -0.00347876,  0.07656929,  0.15226783, -0.07335475,\n",
       "       -0.09810451, -0.05145496,  0.00291665,  0.05571057,  0.25369805,\n",
       "        0.09081152,  0.01670988,  0.1720435 ])"
      ]
     },
     "execution_count": 34,
     "metadata": {},
     "output_type": "execute_result"
    }
   ],
   "source": [
    "lr.w_"
   ]
  },
  {
   "cell_type": "code",
   "execution_count": 35,
   "metadata": {
    "collapsed": true
   },
   "outputs": [],
   "source": [
    "from sklearn.metrics import mean_squared_error\n",
    "train['predict'] = lr.predict(train_x.values)"
   ]
  },
  {
   "cell_type": "code",
   "execution_count": 36,
   "metadata": {},
   "outputs": [
    {
     "name": "stdout",
     "output_type": "stream",
     "text": [
      "MSE train: 0.003\n"
     ]
    },
    {
     "data": {
      "text/html": [
       "<div>\n",
       "<style>\n",
       "    .dataframe thead tr:only-child th {\n",
       "        text-align: right;\n",
       "    }\n",
       "\n",
       "    .dataframe thead th {\n",
       "        text-align: left;\n",
       "    }\n",
       "\n",
       "    .dataframe tbody tr th {\n",
       "        vertical-align: top;\n",
       "    }\n",
       "</style>\n",
       "<table border=\"1\" class=\"dataframe\">\n",
       "  <thead>\n",
       "    <tr style=\"text-align: right;\">\n",
       "      <th></th>\n",
       "      <th>room</th>\n",
       "      <th>area</th>\n",
       "      <th>SalePrice</th>\n",
       "      <th>Neighborhood_Blmngtn</th>\n",
       "      <th>Neighborhood_Blueste</th>\n",
       "      <th>Neighborhood_BrDale</th>\n",
       "      <th>Neighborhood_BrkSide</th>\n",
       "      <th>Neighborhood_ClearCr</th>\n",
       "      <th>Neighborhood_CollgCr</th>\n",
       "      <th>Neighborhood_Crawfor</th>\n",
       "      <th>...</th>\n",
       "      <th>Neighborhood_NridgHt</th>\n",
       "      <th>Neighborhood_OldTown</th>\n",
       "      <th>Neighborhood_SWISU</th>\n",
       "      <th>Neighborhood_Sawyer</th>\n",
       "      <th>Neighborhood_SawyerW</th>\n",
       "      <th>Neighborhood_Somerst</th>\n",
       "      <th>Neighborhood_StoneBr</th>\n",
       "      <th>Neighborhood_Timber</th>\n",
       "      <th>Neighborhood_Veenker</th>\n",
       "      <th>predict</th>\n",
       "    </tr>\n",
       "  </thead>\n",
       "  <tbody>\n",
       "    <tr>\n",
       "      <th>1027</th>\n",
       "      <td>0.375</td>\n",
       "      <td>0.044229</td>\n",
       "      <td>0.388181</td>\n",
       "      <td>0</td>\n",
       "      <td>0</td>\n",
       "      <td>0</td>\n",
       "      <td>0</td>\n",
       "      <td>0</td>\n",
       "      <td>0</td>\n",
       "      <td>0</td>\n",
       "      <td>...</td>\n",
       "      <td>0</td>\n",
       "      <td>0</td>\n",
       "      <td>0</td>\n",
       "      <td>0</td>\n",
       "      <td>0</td>\n",
       "      <td>0</td>\n",
       "      <td>0</td>\n",
       "      <td>1</td>\n",
       "      <td>0</td>\n",
       "      <td>0.331322</td>\n",
       "    </tr>\n",
       "    <tr>\n",
       "      <th>971</th>\n",
       "      <td>0.250</td>\n",
       "      <td>0.010537</td>\n",
       "      <td>0.229139</td>\n",
       "      <td>0</td>\n",
       "      <td>0</td>\n",
       "      <td>0</td>\n",
       "      <td>0</td>\n",
       "      <td>0</td>\n",
       "      <td>0</td>\n",
       "      <td>0</td>\n",
       "      <td>...</td>\n",
       "      <td>1</td>\n",
       "      <td>0</td>\n",
       "      <td>0</td>\n",
       "      <td>0</td>\n",
       "      <td>0</td>\n",
       "      <td>0</td>\n",
       "      <td>0</td>\n",
       "      <td>0</td>\n",
       "      <td>0</td>\n",
       "      <td>0.367867</td>\n",
       "    </tr>\n",
       "    <tr>\n",
       "      <th>1263</th>\n",
       "      <td>0.375</td>\n",
       "      <td>0.062789</td>\n",
       "      <td>0.239073</td>\n",
       "      <td>0</td>\n",
       "      <td>0</td>\n",
       "      <td>0</td>\n",
       "      <td>1</td>\n",
       "      <td>0</td>\n",
       "      <td>0</td>\n",
       "      <td>0</td>\n",
       "      <td>...</td>\n",
       "      <td>0</td>\n",
       "      <td>0</td>\n",
       "      <td>0</td>\n",
       "      <td>0</td>\n",
       "      <td>0</td>\n",
       "      <td>0</td>\n",
       "      <td>0</td>\n",
       "      <td>0</td>\n",
       "      <td>0</td>\n",
       "      <td>0.206246</td>\n",
       "    </tr>\n",
       "    <tr>\n",
       "      <th>965</th>\n",
       "      <td>0.375</td>\n",
       "      <td>0.047560</td>\n",
       "      <td>0.236954</td>\n",
       "      <td>0</td>\n",
       "      <td>0</td>\n",
       "      <td>0</td>\n",
       "      <td>0</td>\n",
       "      <td>0</td>\n",
       "      <td>0</td>\n",
       "      <td>0</td>\n",
       "      <td>...</td>\n",
       "      <td>0</td>\n",
       "      <td>0</td>\n",
       "      <td>0</td>\n",
       "      <td>0</td>\n",
       "      <td>0</td>\n",
       "      <td>0</td>\n",
       "      <td>0</td>\n",
       "      <td>0</td>\n",
       "      <td>0</td>\n",
       "      <td>0.278055</td>\n",
       "    </tr>\n",
       "    <tr>\n",
       "      <th>468</th>\n",
       "      <td>0.375</td>\n",
       "      <td>0.053093</td>\n",
       "      <td>0.331126</td>\n",
       "      <td>0</td>\n",
       "      <td>0</td>\n",
       "      <td>0</td>\n",
       "      <td>0</td>\n",
       "      <td>0</td>\n",
       "      <td>0</td>\n",
       "      <td>0</td>\n",
       "      <td>...</td>\n",
       "      <td>1</td>\n",
       "      <td>0</td>\n",
       "      <td>0</td>\n",
       "      <td>0</td>\n",
       "      <td>0</td>\n",
       "      <td>0</td>\n",
       "      <td>0</td>\n",
       "      <td>0</td>\n",
       "      <td>0</td>\n",
       "      <td>0.393755</td>\n",
       "    </tr>\n",
       "  </tbody>\n",
       "</table>\n",
       "<p>5 rows × 29 columns</p>\n",
       "</div>"
      ],
      "text/plain": [
       "       room      area  SalePrice  Neighborhood_Blmngtn  Neighborhood_Blueste  \\\n",
       "1027  0.375  0.044229   0.388181                     0                     0   \n",
       "971   0.250  0.010537   0.229139                     0                     0   \n",
       "1263  0.375  0.062789   0.239073                     0                     0   \n",
       "965   0.375  0.047560   0.236954                     0                     0   \n",
       "468   0.375  0.053093   0.331126                     0                     0   \n",
       "\n",
       "      Neighborhood_BrDale  Neighborhood_BrkSide  Neighborhood_ClearCr  \\\n",
       "1027                    0                     0                     0   \n",
       "971                     0                     0                     0   \n",
       "1263                    0                     1                     0   \n",
       "965                     0                     0                     0   \n",
       "468                     0                     0                     0   \n",
       "\n",
       "      Neighborhood_CollgCr  Neighborhood_Crawfor    ...     \\\n",
       "1027                     0                     0    ...      \n",
       "971                      0                     0    ...      \n",
       "1263                     0                     0    ...      \n",
       "965                      0                     0    ...      \n",
       "468                      0                     0    ...      \n",
       "\n",
       "      Neighborhood_NridgHt  Neighborhood_OldTown  Neighborhood_SWISU  \\\n",
       "1027                     0                     0                   0   \n",
       "971                      1                     0                   0   \n",
       "1263                     0                     0                   0   \n",
       "965                      0                     0                   0   \n",
       "468                      1                     0                   0   \n",
       "\n",
       "      Neighborhood_Sawyer  Neighborhood_SawyerW  Neighborhood_Somerst  \\\n",
       "1027                    0                     0                     0   \n",
       "971                     0                     0                     0   \n",
       "1263                    0                     0                     0   \n",
       "965                     0                     0                     0   \n",
       "468                     0                     0                     0   \n",
       "\n",
       "      Neighborhood_StoneBr  Neighborhood_Timber  Neighborhood_Veenker  \\\n",
       "1027                     0                    1                     0   \n",
       "971                      0                    0                     0   \n",
       "1263                     0                    0                     0   \n",
       "965                      0                    0                     0   \n",
       "468                      0                    0                     0   \n",
       "\n",
       "       predict  \n",
       "1027  0.331322  \n",
       "971   0.367867  \n",
       "1263  0.206246  \n",
       "965   0.278055  \n",
       "468   0.393755  \n",
       "\n",
       "[5 rows x 29 columns]"
      ]
     },
     "execution_count": 36,
     "metadata": {},
     "output_type": "execute_result"
    }
   ],
   "source": [
    "print('MSE train: %.3f' % (mean_squared_error(train_y, train['predict'])))\n",
    "train.head()"
   ]
  },
  {
   "cell_type": "code",
   "execution_count": 37,
   "metadata": {},
   "outputs": [
    {
     "name": "stdout",
     "output_type": "stream",
     "text": [
      "MSE test: 0.006\n"
     ]
    },
    {
     "data": {
      "text/html": [
       "<div>\n",
       "<style>\n",
       "    .dataframe thead tr:only-child th {\n",
       "        text-align: right;\n",
       "    }\n",
       "\n",
       "    .dataframe thead th {\n",
       "        text-align: left;\n",
       "    }\n",
       "\n",
       "    .dataframe tbody tr th {\n",
       "        vertical-align: top;\n",
       "    }\n",
       "</style>\n",
       "<table border=\"1\" class=\"dataframe\">\n",
       "  <thead>\n",
       "    <tr style=\"text-align: right;\">\n",
       "      <th></th>\n",
       "      <th>room</th>\n",
       "      <th>area</th>\n",
       "      <th>SalePrice</th>\n",
       "      <th>Neighborhood_Blmngtn</th>\n",
       "      <th>Neighborhood_Blueste</th>\n",
       "      <th>Neighborhood_BrDale</th>\n",
       "      <th>Neighborhood_BrkSide</th>\n",
       "      <th>Neighborhood_ClearCr</th>\n",
       "      <th>Neighborhood_CollgCr</th>\n",
       "      <th>Neighborhood_Crawfor</th>\n",
       "      <th>...</th>\n",
       "      <th>Neighborhood_NridgHt</th>\n",
       "      <th>Neighborhood_OldTown</th>\n",
       "      <th>Neighborhood_SWISU</th>\n",
       "      <th>Neighborhood_Sawyer</th>\n",
       "      <th>Neighborhood_SawyerW</th>\n",
       "      <th>Neighborhood_Somerst</th>\n",
       "      <th>Neighborhood_StoneBr</th>\n",
       "      <th>Neighborhood_Timber</th>\n",
       "      <th>Neighborhood_Veenker</th>\n",
       "      <th>predict</th>\n",
       "    </tr>\n",
       "  </thead>\n",
       "  <tbody>\n",
       "    <tr>\n",
       "      <th>1240</th>\n",
       "      <td>0.375</td>\n",
       "      <td>0.037901</td>\n",
       "      <td>0.297881</td>\n",
       "      <td>0</td>\n",
       "      <td>0</td>\n",
       "      <td>0</td>\n",
       "      <td>0</td>\n",
       "      <td>0</td>\n",
       "      <td>1</td>\n",
       "      <td>0</td>\n",
       "      <td>...</td>\n",
       "      <td>0</td>\n",
       "      <td>0</td>\n",
       "      <td>0</td>\n",
       "      <td>0</td>\n",
       "      <td>0</td>\n",
       "      <td>0</td>\n",
       "      <td>0</td>\n",
       "      <td>0</td>\n",
       "      <td>0</td>\n",
       "      <td>0.251882</td>\n",
       "    </tr>\n",
       "    <tr>\n",
       "      <th>1230</th>\n",
       "      <td>0.500</td>\n",
       "      <td>0.087760</td>\n",
       "      <td>0.251656</td>\n",
       "      <td>0</td>\n",
       "      <td>0</td>\n",
       "      <td>0</td>\n",
       "      <td>0</td>\n",
       "      <td>0</td>\n",
       "      <td>0</td>\n",
       "      <td>0</td>\n",
       "      <td>...</td>\n",
       "      <td>0</td>\n",
       "      <td>0</td>\n",
       "      <td>0</td>\n",
       "      <td>1</td>\n",
       "      <td>0</td>\n",
       "      <td>0</td>\n",
       "      <td>0</td>\n",
       "      <td>0</td>\n",
       "      <td>0</td>\n",
       "      <td>0.215051</td>\n",
       "    </tr>\n",
       "    <tr>\n",
       "      <th>1406</th>\n",
       "      <td>0.250</td>\n",
       "      <td>0.039234</td>\n",
       "      <td>0.176159</td>\n",
       "      <td>0</td>\n",
       "      <td>0</td>\n",
       "      <td>0</td>\n",
       "      <td>0</td>\n",
       "      <td>0</td>\n",
       "      <td>1</td>\n",
       "      <td>0</td>\n",
       "      <td>...</td>\n",
       "      <td>0</td>\n",
       "      <td>0</td>\n",
       "      <td>0</td>\n",
       "      <td>0</td>\n",
       "      <td>0</td>\n",
       "      <td>0</td>\n",
       "      <td>0</td>\n",
       "      <td>0</td>\n",
       "      <td>0</td>\n",
       "      <td>0.230831</td>\n",
       "    </tr>\n",
       "    <tr>\n",
       "      <th>815</th>\n",
       "      <td>0.375</td>\n",
       "      <td>0.056387</td>\n",
       "      <td>0.297881</td>\n",
       "      <td>0</td>\n",
       "      <td>0</td>\n",
       "      <td>0</td>\n",
       "      <td>0</td>\n",
       "      <td>0</td>\n",
       "      <td>1</td>\n",
       "      <td>0</td>\n",
       "      <td>...</td>\n",
       "      <td>0</td>\n",
       "      <td>0</td>\n",
       "      <td>0</td>\n",
       "      <td>0</td>\n",
       "      <td>0</td>\n",
       "      <td>0</td>\n",
       "      <td>0</td>\n",
       "      <td>0</td>\n",
       "      <td>0</td>\n",
       "      <td>0.253919</td>\n",
       "    </tr>\n",
       "    <tr>\n",
       "      <th>907</th>\n",
       "      <td>0.375</td>\n",
       "      <td>0.053427</td>\n",
       "      <td>0.331126</td>\n",
       "      <td>0</td>\n",
       "      <td>0</td>\n",
       "      <td>0</td>\n",
       "      <td>0</td>\n",
       "      <td>0</td>\n",
       "      <td>0</td>\n",
       "      <td>1</td>\n",
       "      <td>...</td>\n",
       "      <td>0</td>\n",
       "      <td>0</td>\n",
       "      <td>0</td>\n",
       "      <td>0</td>\n",
       "      <td>0</td>\n",
       "      <td>0</td>\n",
       "      <td>0</td>\n",
       "      <td>0</td>\n",
       "      <td>0</td>\n",
       "      <td>0.223278</td>\n",
       "    </tr>\n",
       "  </tbody>\n",
       "</table>\n",
       "<p>5 rows × 29 columns</p>\n",
       "</div>"
      ],
      "text/plain": [
       "       room      area  SalePrice  Neighborhood_Blmngtn  Neighborhood_Blueste  \\\n",
       "1240  0.375  0.037901   0.297881                     0                     0   \n",
       "1230  0.500  0.087760   0.251656                     0                     0   \n",
       "1406  0.250  0.039234   0.176159                     0                     0   \n",
       "815   0.375  0.056387   0.297881                     0                     0   \n",
       "907   0.375  0.053427   0.331126                     0                     0   \n",
       "\n",
       "      Neighborhood_BrDale  Neighborhood_BrkSide  Neighborhood_ClearCr  \\\n",
       "1240                    0                     0                     0   \n",
       "1230                    0                     0                     0   \n",
       "1406                    0                     0                     0   \n",
       "815                     0                     0                     0   \n",
       "907                     0                     0                     0   \n",
       "\n",
       "      Neighborhood_CollgCr  Neighborhood_Crawfor    ...     \\\n",
       "1240                     1                     0    ...      \n",
       "1230                     0                     0    ...      \n",
       "1406                     1                     0    ...      \n",
       "815                      1                     0    ...      \n",
       "907                      0                     1    ...      \n",
       "\n",
       "      Neighborhood_NridgHt  Neighborhood_OldTown  Neighborhood_SWISU  \\\n",
       "1240                     0                     0                   0   \n",
       "1230                     0                     0                   0   \n",
       "1406                     0                     0                   0   \n",
       "815                      0                     0                   0   \n",
       "907                      0                     0                   0   \n",
       "\n",
       "      Neighborhood_Sawyer  Neighborhood_SawyerW  Neighborhood_Somerst  \\\n",
       "1240                    0                     0                     0   \n",
       "1230                    1                     0                     0   \n",
       "1406                    0                     0                     0   \n",
       "815                     0                     0                     0   \n",
       "907                     0                     0                     0   \n",
       "\n",
       "      Neighborhood_StoneBr  Neighborhood_Timber  Neighborhood_Veenker  \\\n",
       "1240                     0                    0                     0   \n",
       "1230                     0                    0                     0   \n",
       "1406                     0                    0                     0   \n",
       "815                      0                    0                     0   \n",
       "907                      0                    0                     0   \n",
       "\n",
       "       predict  \n",
       "1240  0.251882  \n",
       "1230  0.215051  \n",
       "1406  0.230831  \n",
       "815   0.253919  \n",
       "907   0.223278  \n",
       "\n",
       "[5 rows x 29 columns]"
      ]
     },
     "execution_count": 37,
     "metadata": {},
     "output_type": "execute_result"
    }
   ],
   "source": [
    "test['predict'] = lr.predict(test_x.values)\n",
    "print('MSE test: %.3f' % (mean_squared_error(test_y, test['predict'])))\n",
    "test.head()"
   ]
  },
  {
   "cell_type": "markdown",
   "metadata": {},
   "source": [
    "** 效果好了很多， 思考， 错误能不能降低到0？ 为什么测试误差的下降没有那么快？ **"
   ]
  },
  {
   "cell_type": "code",
   "execution_count": null,
   "metadata": {
    "collapsed": true
   },
   "outputs": [],
   "source": []
  }
 ],
 "metadata": {
  "hide_input": false,
  "kernelspec": {
   "display_name": "Python 3",
   "language": "python",
   "name": "python3"
  },
  "language_info": {
   "codemirror_mode": {
    "name": "ipython",
    "version": 3
   },
   "file_extension": ".py",
   "mimetype": "text/x-python",
   "name": "python",
   "nbconvert_exporter": "python",
   "pygments_lexer": "ipython3",
   "version": "3.7.6"
  },
  "toc": {
   "nav_menu": {},
   "number_sections": true,
   "sideBar": false,
   "skip_h1_title": false,
   "toc_cell": false,
   "toc_position": {
    "height": "450px",
    "left": "3px",
    "right": "1154px",
    "top": "67px",
    "width": "158px"
   },
   "toc_section_display": "block",
   "toc_window_display": true
  },
  "varInspector": {
   "cols": {
    "lenName": 16,
    "lenType": 16,
    "lenVar": 40
   },
   "kernels_config": {
    "python": {
     "delete_cmd_postfix": "",
     "delete_cmd_prefix": "del ",
     "library": "var_list.py",
     "varRefreshCmd": "print(var_dic_list())"
    },
    "r": {
     "delete_cmd_postfix": ") ",
     "delete_cmd_prefix": "rm(",
     "library": "var_list.r",
     "varRefreshCmd": "cat(var_dic_list()) "
    }
   },
   "types_to_exclude": [
    "module",
    "function",
    "builtin_function_or_method",
    "instance",
    "_Feature"
   ],
   "window_display": false
  }
 },
 "nbformat": 4,
 "nbformat_minor": 2
}
